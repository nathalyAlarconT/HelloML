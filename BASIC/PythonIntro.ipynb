{
  "nbformat": 4,
  "nbformat_minor": 0,
  "metadata": {
    "colab": {
      "name": "BasicPython",
      "version": "0.3.2",
      "provenance": [],
      "collapsed_sections": [],
      "include_colab_link": true
    },
    "kernelspec": {
      "name": "python3",
      "display_name": "Python 3"
    }
  },
  "cells": [
    {
      "cell_type": "markdown",
      "metadata": {
        "id": "view-in-github",
        "colab_type": "text"
      },
      "source": [
        "<a href=\"https://colab.research.google.com/github/nathalyAlarconT/HelloML/blob/master/BASIC/PythonIntro.ipynb\" target=\"_parent\"><img src=\"https://colab.research.google.com/assets/colab-badge.svg\" alt=\"Open In Colab\"/></a>"
      ]
    },
    {
      "cell_type": "markdown",
      "metadata": {
        "id": "M15jTjgabj0R",
        "colab_type": "text"
      },
      "source": [
        "## Objetivo"
      ]
    },
    {
      "cell_type": "markdown",
      "metadata": {
        "id": "O5iqKPrxac61",
        "colab_type": "text"
      },
      "source": [
        "Hola ! \n",
        "\n",
        "El propósito de este notebook es mostrar la sintaxis básica de Python y de las principales librerías utilizadas para analizar y procesar datos.\n",
        "\n",
        "Contenido: \n",
        "\n",
        "*   Python\n",
        "  * Sintáxis Básica\n",
        "  * Estructuras de control\n",
        "  * Funciones\n",
        "* Scipy\n",
        "  * Numpy\n",
        "  * Matplotlib\n",
        "  * Pandas\n",
        "\n",
        "\n"
      ]
    },
    {
      "cell_type": "markdown",
      "metadata": {
        "id": "TwL24tbQlpwn",
        "colab_type": "text"
      },
      "source": [
        "# Python\n",
        "\n"
      ]
    },
    {
      "cell_type": "code",
      "metadata": {
        "id": "8pGJ3ca6CUS2",
        "colab_type": "code",
        "outputId": "ed2a2113-0fb8-46dd-e6bf-d27b78f33cea",
        "colab": {
          "base_uri": "https://localhost:8080/",
          "height": 34
        }
      },
      "source": [
        "# Hola mundo\n",
        "print(\"Hello World\")"
      ],
      "execution_count": 1,
      "outputs": [
        {
          "output_type": "stream",
          "text": [
            "Hello World\n"
          ],
          "name": "stdout"
        }
      ]
    },
    {
      "cell_type": "markdown",
      "metadata": {
        "id": "XPylpaD6pHvW",
        "colab_type": "text"
      },
      "source": [
        "## Basic Syntax"
      ]
    },
    {
      "cell_type": "markdown",
      "metadata": {
        "id": "UA1jAncvpDKI",
        "colab_type": "text"
      },
      "source": [
        "### Comentarios"
      ]
    },
    {
      "cell_type": "code",
      "metadata": {
        "id": "9OSu8JZOCmFG",
        "colab_type": "code",
        "outputId": "93889160-8495-435b-fc3b-29c62c23d49e",
        "colab": {
          "base_uri": "https://localhost:8080/",
          "height": 34
        }
      },
      "source": [
        "# Comentarios en Python\n",
        "# Comentario de una linea\n",
        "\n",
        "\"\"\" \n",
        "Comentario de \n",
        "múltiples \n",
        "líneas\n",
        "\"\"\"\n",
        "\n",
        "\"\"\" Aunque es multilinea, sólo usamos una \"\"\"\n"
      ],
      "execution_count": 2,
      "outputs": [
        {
          "output_type": "execute_result",
          "data": {
            "text/plain": [
              "' Aunque es multilinea, sólo usamos una '"
            ]
          },
          "metadata": {
            "tags": []
          },
          "execution_count": 2
        }
      ]
    },
    {
      "cell_type": "markdown",
      "metadata": {
        "id": "hDy0pUTXpcmD",
        "colab_type": "text"
      },
      "source": [
        "### Cadenas de Texto"
      ]
    },
    {
      "cell_type": "code",
      "metadata": {
        "id": "S09NtTCepHga",
        "colab_type": "code",
        "colab": {
          "base_uri": "https://localhost:8080/",
          "height": 68
        },
        "outputId": "81ab6f62-26ac-4749-ba7d-95720af3b834"
      },
      "source": [
        "a = \"Hello\"\n",
        "print(a[1])\n",
        "print(len(a))\n",
        "a\n"
      ],
      "execution_count": 3,
      "outputs": [
        {
          "output_type": "stream",
          "text": [
            "e\n",
            "5\n"
          ],
          "name": "stdout"
        },
        {
          "output_type": "execute_result",
          "data": {
            "text/plain": [
              "'Hello'"
            ]
          },
          "metadata": {
            "tags": []
          },
          "execution_count": 3
        }
      ]
    },
    {
      "cell_type": "markdown",
      "metadata": {
        "id": "7EErwDu8qK0H",
        "colab_type": "text"
      },
      "source": [
        "### Asignaciones múltiples"
      ]
    },
    {
      "cell_type": "code",
      "metadata": {
        "id": "uTdksPohqP2t",
        "colab_type": "code",
        "colab": {
          "base_uri": "https://localhost:8080/",
          "height": 34
        },
        "outputId": "350a3a72-f1a0-4d0c-df09-6533b97008cb"
      },
      "source": [
        "b, c, d, e, f, g = 20, None, 40, False, 'hola!', True\n",
        "print(b, c, d, e, f, g)"
      ],
      "execution_count": 4,
      "outputs": [
        {
          "output_type": "stream",
          "text": [
            "20 None 40 False hola! True\n"
          ],
          "name": "stdout"
        }
      ]
    },
    {
      "cell_type": "markdown",
      "metadata": {
        "id": "mIMjdQfcuhYm",
        "colab_type": "text"
      },
      "source": [
        "## Estructuras de datos"
      ]
    },
    {
      "cell_type": "markdown",
      "metadata": {
        "id": "LCA3rsULuoLs",
        "colab_type": "text"
      },
      "source": [
        "### Listas\n"
      ]
    },
    {
      "cell_type": "code",
      "metadata": {
        "id": "JXr0TrJjul_V",
        "colab_type": "code",
        "colab": {
          "base_uri": "https://localhost:8080/",
          "height": 204
        },
        "outputId": "da278f6b-ccf5-4a06-8569-4050a1f724c4"
      },
      "source": [
        "my_list = [-1, 3, 4, 6]\n",
        "print(\"Segundo elemento de la lista\", my_list[1])\n",
        "\n",
        "# Adicionar un elemento a la lista\n",
        "my_list.append(8)\n",
        "print(my_list)\n",
        "\n",
        "# Adicionar múltiples elementos a la lista\n",
        "my_list.extend([-2, 10])\n",
        "print(my_list)\n",
        "\n",
        "print(\"Iteramos la lista\")\n",
        "for elem in my_list:\n",
        "  print(elem)\n"
      ],
      "execution_count": 5,
      "outputs": [
        {
          "output_type": "stream",
          "text": [
            "Segundo elemento de la lista 3\n",
            "[-1, 3, 4, 6, 8]\n",
            "[-1, 3, 4, 6, 8, -2, 10]\n",
            "Iteramos la lista\n",
            "-1\n",
            "3\n",
            "4\n",
            "6\n",
            "8\n",
            "-2\n",
            "10\n"
          ],
          "name": "stdout"
        }
      ]
    },
    {
      "cell_type": "markdown",
      "metadata": {
        "id": "Hic7bfK0vyBa",
        "colab_type": "text"
      },
      "source": [
        "### Diccionarios"
      ]
    },
    {
      "cell_type": "code",
      "metadata": {
        "id": "ly3R7Co2v1Vu",
        "colab_type": "code",
        "colab": {
          "base_uri": "https://localhost:8080/",
          "height": 68
        },
        "outputId": "717295cc-c2ff-4004-8181-1046d329de4e"
      },
      "source": [
        "product = {'id':1, 'name': 'Pencil', 'price': 2}\n",
        "\n",
        "print(\"Precio\", product['price'])\n",
        "\n",
        "print(product.keys())\n",
        "print(product.values())\n"
      ],
      "execution_count": 6,
      "outputs": [
        {
          "output_type": "stream",
          "text": [
            "Precio 2\n",
            "dict_keys(['id', 'name', 'price'])\n",
            "dict_values([1, 'Pencil', 2])\n"
          ],
          "name": "stdout"
        }
      ]
    },
    {
      "cell_type": "markdown",
      "metadata": {
        "id": "D2NEzRMjq8hT",
        "colab_type": "text"
      },
      "source": [
        "## Estructuras de Control"
      ]
    },
    {
      "cell_type": "markdown",
      "metadata": {
        "id": "bJYIPY86r51m",
        "colab_type": "text"
      },
      "source": [
        "### If-Then-Else"
      ]
    },
    {
      "cell_type": "code",
      "metadata": {
        "id": "kezxbINaCZ-S",
        "colab_type": "code",
        "colab": {
          "base_uri": "https://localhost:8080/",
          "height": 34
        },
        "outputId": "ff1df5e3-f0b1-4b18-b4d7-2cc2329198f9"
      },
      "source": [
        "nota = 67\n",
        "\n",
        "if nota < 51: \n",
        "  print(\"reprobado\")\n",
        "elif nota > 90:\n",
        "  print(\"sobresaliente\")\n",
        "else:\n",
        "  print (\"aprobado\")"
      ],
      "execution_count": 7,
      "outputs": [
        {
          "output_type": "stream",
          "text": [
            "aprobado\n"
          ],
          "name": "stdout"
        }
      ]
    },
    {
      "cell_type": "markdown",
      "metadata": {
        "id": "fKelZOm3tmJn",
        "colab_type": "text"
      },
      "source": [
        "### For Loop"
      ]
    },
    {
      "cell_type": "code",
      "metadata": {
        "id": "IecZasNvoY2-",
        "colab_type": "code",
        "colab": {
          "base_uri": "https://localhost:8080/",
          "height": 238
        },
        "outputId": "3f13330d-e912-49d0-cfc1-24a306dac578"
      },
      "source": [
        "# Definamos una lista\n",
        "my_list = list(range(5, 17))\n",
        "print(my_list)\n",
        "\n",
        "for i in my_list:\n",
        "  print (\"Elemento en la lista:\", i)"
      ],
      "execution_count": 8,
      "outputs": [
        {
          "output_type": "stream",
          "text": [
            "[5, 6, 7, 8, 9, 10, 11, 12, 13, 14, 15, 16]\n",
            "Elemento en la lista: 5\n",
            "Elemento en la lista: 6\n",
            "Elemento en la lista: 7\n",
            "Elemento en la lista: 8\n",
            "Elemento en la lista: 9\n",
            "Elemento en la lista: 10\n",
            "Elemento en la lista: 11\n",
            "Elemento en la lista: 12\n",
            "Elemento en la lista: 13\n",
            "Elemento en la lista: 14\n",
            "Elemento en la lista: 15\n",
            "Elemento en la lista: 16\n"
          ],
          "name": "stdout"
        }
      ]
    },
    {
      "cell_type": "markdown",
      "metadata": {
        "id": "Wd4GagCCt-YR",
        "colab_type": "text"
      },
      "source": [
        "### While Loop\n"
      ]
    },
    {
      "cell_type": "code",
      "metadata": {
        "id": "K4kk5F4QuBmN",
        "colab_type": "code",
        "colab": {
          "base_uri": "https://localhost:8080/",
          "height": 85
        },
        "outputId": "e7cc1f2e-4356-4276-a837-d33b94c7a0ab"
      },
      "source": [
        "saldo = 4\n",
        "while saldo > 0:\n",
        "  saldo -= 1\n",
        "  print (\"Pago realizado. Saldo Actual:\", saldo)"
      ],
      "execution_count": 9,
      "outputs": [
        {
          "output_type": "stream",
          "text": [
            "Pago realizado. Saldo Actual: 3\n",
            "Pago realizado. Saldo Actual: 2\n",
            "Pago realizado. Saldo Actual: 1\n",
            "Pago realizado. Saldo Actual: 0\n"
          ],
          "name": "stdout"
        }
      ]
    },
    {
      "cell_type": "markdown",
      "metadata": {
        "id": "-4Nd_ZZTyIZT",
        "colab_type": "text"
      },
      "source": [
        "## Funciones"
      ]
    },
    {
      "cell_type": "code",
      "metadata": {
        "id": "m3IXC-HeyNpi",
        "colab_type": "code",
        "colab": {
          "base_uri": "https://localhost:8080/",
          "height": 34
        },
        "outputId": "66759a46-426c-4991-c5fd-86d1641f3ad1"
      },
      "source": [
        "def cm_a_pulgadas(medida):\n",
        "  pulgadas = medida / 2.54\n",
        "  return pulgadas\n",
        "\n",
        "\n",
        "medida = 50\n",
        "pulgadas = cm_a_pulgadas(medida)\n",
        "print(\"Pulgadas :\", pulgadas)"
      ],
      "execution_count": 10,
      "outputs": [
        {
          "output_type": "stream",
          "text": [
            "Pulgadas : 19.68503937007874\n"
          ],
          "name": "stdout"
        }
      ]
    },
    {
      "cell_type": "markdown",
      "metadata": {
        "id": "-g-77-BJ16Sk",
        "colab_type": "text"
      },
      "source": [
        "## SciPy\n",
        "Es un ecosistema de librerías para matemáticas, ciencia e ingeniería. \n",
        "\n",
        "https://www.scipy.org/\n",
        "\n",
        "Usaremos principalmente:\n",
        "\n",
        "**Numpy**: Básicamente nos permite trabajar eficientemente con arrays\n",
        "\n",
        "**Matplotlib**: Nos permite crear visualizaciones\n",
        "\n",
        "**Pandas**: Nos permite trabajar con datasets\n",
        "\n",
        "\n"
      ]
    },
    {
      "cell_type": "markdown",
      "metadata": {
        "id": "PxNuhnTu2QPy",
        "colab_type": "text"
      },
      "source": [
        "### Numpy"
      ]
    },
    {
      "cell_type": "code",
      "metadata": {
        "id": "Q0ljb3hi166R",
        "colab_type": "code",
        "colab": {}
      },
      "source": [
        "import numpy"
      ],
      "execution_count": 0,
      "outputs": []
    },
    {
      "cell_type": "code",
      "metadata": {
        "id": "LRfTM8IP2Usu",
        "colab_type": "code",
        "colab": {
          "base_uri": "https://localhost:8080/",
          "height": 102
        },
        "outputId": "d6eb843e-2c62-434a-ec09-651413c02cc0"
      },
      "source": [
        "my_matrix = numpy.array([[1,2,3], [4,5,6], [7,8,9]])\n",
        "\n",
        "print(\"Tamaño de la matriz:\", my_matrix.shape)\n",
        "# Acceder a los elementos de la matriz my_matrix[row, column]\n",
        "print(\"Segundo elemento de la tercera fila: \", my_matrix[2,1])\n",
        "\n",
        "print(my_matrix)"
      ],
      "execution_count": 12,
      "outputs": [
        {
          "output_type": "stream",
          "text": [
            "Tamaño de la matriz: (3, 3)\n",
            "Segundo elemento de la tercera fila:  8\n",
            "[[1 2 3]\n",
            " [4 5 6]\n",
            " [7 8 9]]\n"
          ],
          "name": "stdout"
        }
      ]
    },
    {
      "cell_type": "markdown",
      "metadata": {
        "id": "IgT5c5gJ4A2D",
        "colab_type": "text"
      },
      "source": [
        "### Matplotlib"
      ]
    },
    {
      "cell_type": "code",
      "metadata": {
        "id": "qlRLVQe626ob",
        "colab_type": "code",
        "colab": {}
      },
      "source": [
        "import matplotlib.pyplot as plt\n",
        "%matplotlib inline"
      ],
      "execution_count": 0,
      "outputs": []
    },
    {
      "cell_type": "code",
      "metadata": {
        "id": "YTDBvLFg3_0Y",
        "colab_type": "code",
        "colab": {
          "base_uri": "https://localhost:8080/",
          "height": 283
        },
        "outputId": "e0c832a4-f45b-4c36-dca1-2bc992619f79"
      },
      "source": [
        "plt.plot([2,3,6],[4,5,1])\n",
        "plt.xlabel(\"Eje x title\")\n",
        "plt.ylabel(\"Eje y title\")\n",
        "plt.show()"
      ],
      "execution_count": 14,
      "outputs": [
        {
          "output_type": "display_data",
          "data": {
            "image/png": "[encoded data removed]",
            "text/plain": [
              "<Figure size 432x288 with 1 Axes>"
            ]
          },
          "metadata": {
            "tags": []
          }
        }
      ]
    },
    {
      "cell_type": "code",
      "metadata": {
        "id": "twI-nq_d6H3y",
        "colab_type": "code",
        "colab": {
          "base_uri": "https://localhost:8080/",
          "height": 283
        },
        "outputId": "93d27bc9-03e9-4b26-97c4-f1e389cb66f0"
      },
      "source": [
        "plt.scatter([2,3,6],[4,5,1])\n",
        "plt.xlabel(\"Eje x title\")\n",
        "plt.ylabel(\"Eje y title\")\n",
        "plt.show()"
      ],
      "execution_count": 15,
      "outputs": [
        {
          "output_type": "display_data",
          "data": {
            "image/png": "[encoded data removed]",
            "text/plain": [
              "<Figure size 432x288 with 1 Axes>"
            ]
          },
          "metadata": {
            "tags": []
          }
        }
      ]
    },
    {
      "cell_type": "markdown",
      "metadata": {
        "id": "EWSJClOb7_RU",
        "colab_type": "text"
      },
      "source": [
        "### Pandas"
      ]
    },
    {
      "cell_type": "code",
      "metadata": {
        "id": "R9JqjViz7tNs",
        "colab_type": "code",
        "colab": {}
      },
      "source": [
        "import pandas as pd"
      ],
      "execution_count": 0,
      "outputs": []
    },
    {
      "cell_type": "code",
      "metadata": {
        "id": "R_HhlHt77-g7",
        "colab_type": "code",
        "colab": {
          "base_uri": "https://localhost:8080/",
          "height": 142
        },
        "outputId": "8eedeb1e-d0b1-4759-a3a2-24b412371896"
      },
      "source": [
        "my_matrix = numpy.array([['Juan','Rodriguez',25], ['Elizabeth','Barrera',19], ['Pedro','Perez',39]])\n",
        "my_df = pd.DataFrame(my_matrix, columns=['Nombre', 'Apellido', 'Edad'])\n",
        "my_df\n"
      ],
      "execution_count": 17,
      "outputs": [
        {
          "output_type": "execute_result",
          "data": {
            "text/html": [
              "<div>\n",
              "<style scoped>\n",
              "    .dataframe tbody tr th:only-of-type {\n",
              "        vertical-align: middle;\n",
              "    }\n",
              "\n",
              "    .dataframe tbody tr th {\n",
              "        vertical-align: top;\n",
              "    }\n",
              "\n",
              "    .dataframe thead th {\n",
              "        text-align: right;\n",
              "    }\n",
              "</style>\n",
              "<table border=\"1\" class=\"dataframe\">\n",
              "  <thead>\n",
              "    <tr style=\"text-align: right;\">\n",
              "      <th></th>\n",
              "      <th>Nombre</th>\n",
              "      <th>Apellido</th>\n",
              "      <th>Edad</th>\n",
              "    </tr>\n",
              "  </thead>\n",
              "  <tbody>\n",
              "    <tr>\n",
              "      <th>0</th>\n",
              "      <td>Juan</td>\n",
              "      <td>Rodriguez</td>\n",
              "      <td>25</td>\n",
              "    </tr>\n",
              "    <tr>\n",
              "      <th>1</th>\n",
              "      <td>Elizabeth</td>\n",
              "      <td>Barrera</td>\n",
              "      <td>19</td>\n",
              "    </tr>\n",
              "    <tr>\n",
              "      <th>2</th>\n",
              "      <td>Pedro</td>\n",
              "      <td>Perez</td>\n",
              "      <td>39</td>\n",
              "    </tr>\n",
              "  </tbody>\n",
              "</table>\n",
              "</div>"
            ],
            "text/plain": [
              "      Nombre   Apellido Edad\n",
              "0       Juan  Rodriguez   25\n",
              "1  Elizabeth    Barrera   19\n",
              "2      Pedro      Perez   39"
            ]
          },
          "metadata": {
            "tags": []
          },
          "execution_count": 17
        }
      ]
    },
    {
      "cell_type": "code",
      "metadata": {
        "id": "vn20ivxV8bR1",
        "colab_type": "code",
        "colab": {
          "base_uri": "https://localhost:8080/",
          "height": 85
        },
        "outputId": "a223b3fc-406c-4814-be3a-f9b71a0fe68c"
      },
      "source": [
        "#  Seleccionar una columna\n",
        "# Forma 1\n",
        "my_df['Nombre']"
      ],
      "execution_count": 18,
      "outputs": [
        {
          "output_type": "execute_result",
          "data": {
            "text/plain": [
              "0         Juan\n",
              "1    Elizabeth\n",
              "2        Pedro\n",
              "Name: Nombre, dtype: object"
            ]
          },
          "metadata": {
            "tags": []
          },
          "execution_count": 18
        }
      ]
    },
    {
      "cell_type": "code",
      "metadata": {
        "id": "sSQlMlgc8kdh",
        "colab_type": "code",
        "colab": {
          "base_uri": "https://localhost:8080/",
          "height": 85
        },
        "outputId": "cd124fbd-37be-48d0-af61-3102e63babdd"
      },
      "source": [
        "#  Seleccionar una columna\n",
        "# Forma 2\n",
        "my_df.Nombre"
      ],
      "execution_count": 19,
      "outputs": [
        {
          "output_type": "execute_result",
          "data": {
            "text/plain": [
              "0         Juan\n",
              "1    Elizabeth\n",
              "2        Pedro\n",
              "Name: Nombre, dtype: object"
            ]
          },
          "metadata": {
            "tags": []
          },
          "execution_count": 19
        }
      ]
    },
    {
      "cell_type": "code",
      "metadata": {
        "id": "3VCK_UQ98wsW",
        "colab_type": "code",
        "colab": {
          "base_uri": "https://localhost:8080/",
          "height": 85
        },
        "outputId": "f994f63a-4b75-45b9-e65e-28e87bbdf6df"
      },
      "source": [
        "# Tipos de datos en el dataset\n",
        "my_df.dtypes"
      ],
      "execution_count": 20,
      "outputs": [
        {
          "output_type": "execute_result",
          "data": {
            "text/plain": [
              "Nombre      object\n",
              "Apellido    object\n",
              "Edad        object\n",
              "dtype: object"
            ]
          },
          "metadata": {
            "tags": []
          },
          "execution_count": 20
        }
      ]
    },
    {
      "cell_type": "code",
      "metadata": {
        "id": "N5XvMoyq9Q41",
        "colab_type": "code",
        "colab": {
          "base_uri": "https://localhost:8080/",
          "height": 85
        },
        "outputId": "38aa4217-74df-4080-edeb-2c74f0bd52a2"
      },
      "source": [
        "# Cambiaremos la columna Edad a tipo numérico\n",
        "my_df['Edad'] = my_df['Edad'].astype(int)\n",
        "my_df.dtypes"
      ],
      "execution_count": 21,
      "outputs": [
        {
          "output_type": "execute_result",
          "data": {
            "text/plain": [
              "Nombre      object\n",
              "Apellido    object\n",
              "Edad         int64\n",
              "dtype: object"
            ]
          },
          "metadata": {
            "tags": []
          },
          "execution_count": 21
        }
      ]
    },
    {
      "cell_type": "code",
      "metadata": {
        "id": "StAL4HPa9pR7",
        "colab_type": "code",
        "colab": {
          "base_uri": "https://localhost:8080/",
          "height": 34
        },
        "outputId": "0903090f-5e33-4045-a3d5-1db2e30a5b81"
      },
      "source": [
        "print(\"Edad promedio: \", my_df['Edad'].mean() )"
      ],
      "execution_count": 22,
      "outputs": [
        {
          "output_type": "stream",
          "text": [
            "Edad promedio:  27.666666666666668\n"
          ],
          "name": "stdout"
        }
      ]
    },
    {
      "cell_type": "markdown",
      "metadata": {
        "id": "bG36K5PG-WfA",
        "colab_type": "text"
      },
      "source": [
        "### Cargando datos a partir de un CSV"
      ]
    },
    {
      "cell_type": "code",
      "metadata": {
        "id": "K-wy3E4I9t0o",
        "colab_type": "code",
        "colab": {
          "base_uri": "https://localhost:8080/",
          "height": 204
        },
        "outputId": "72ff424d-ecde-49a9-9033-cf15a06f06c6"
      },
      "source": [
        "csv_url = \"https://data.cityofnewyork.us/api/views/25th-nujf/rows.csv?accessType=DOWNLOAD\"\n",
        "# Es importante configurar\n",
        "# Si el csv tiene header, el tipo de separador que usa, y si los valores llevan \"\" ó no\n",
        "\n",
        "df = pd.read_csv(csv_url, delimiter=',' )\n",
        "df.head()"
      ],
      "execution_count": 23,
      "outputs": [
        {
          "output_type": "execute_result",
          "data": {
            "text/html": [
              "<div>\n",
              "<style scoped>\n",
              "    .dataframe tbody tr th:only-of-type {\n",
              "        vertical-align: middle;\n",
              "    }\n",
              "\n",
              "    .dataframe tbody tr th {\n",
              "        vertical-align: top;\n",
              "    }\n",
              "\n",
              "    .dataframe thead th {\n",
              "        text-align: right;\n",
              "    }\n",
              "</style>\n",
              "<table border=\"1\" class=\"dataframe\">\n",
              "  <thead>\n",
              "    <tr style=\"text-align: right;\">\n",
              "      <th></th>\n",
              "      <th>Year of Birth</th>\n",
              "      <th>Gender</th>\n",
              "      <th>Ethnicity</th>\n",
              "      <th>Child's First Name</th>\n",
              "      <th>Count</th>\n",
              "      <th>Rank</th>\n",
              "    </tr>\n",
              "  </thead>\n",
              "  <tbody>\n",
              "    <tr>\n",
              "      <th>0</th>\n",
              "      <td>2016</td>\n",
              "      <td>FEMALE</td>\n",
              "      <td>ASIAN AND PACIFIC ISLANDER</td>\n",
              "      <td>Olivia</td>\n",
              "      <td>172</td>\n",
              "      <td>1</td>\n",
              "    </tr>\n",
              "    <tr>\n",
              "      <th>1</th>\n",
              "      <td>2016</td>\n",
              "      <td>FEMALE</td>\n",
              "      <td>ASIAN AND PACIFIC ISLANDER</td>\n",
              "      <td>Chloe</td>\n",
              "      <td>112</td>\n",
              "      <td>2</td>\n",
              "    </tr>\n",
              "    <tr>\n",
              "      <th>2</th>\n",
              "      <td>2016</td>\n",
              "      <td>FEMALE</td>\n",
              "      <td>ASIAN AND PACIFIC ISLANDER</td>\n",
              "      <td>Sophia</td>\n",
              "      <td>104</td>\n",
              "      <td>3</td>\n",
              "    </tr>\n",
              "    <tr>\n",
              "      <th>3</th>\n",
              "      <td>2016</td>\n",
              "      <td>FEMALE</td>\n",
              "      <td>ASIAN AND PACIFIC ISLANDER</td>\n",
              "      <td>Emma</td>\n",
              "      <td>99</td>\n",
              "      <td>4</td>\n",
              "    </tr>\n",
              "    <tr>\n",
              "      <th>4</th>\n",
              "      <td>2016</td>\n",
              "      <td>FEMALE</td>\n",
              "      <td>ASIAN AND PACIFIC ISLANDER</td>\n",
              "      <td>Emily</td>\n",
              "      <td>99</td>\n",
              "      <td>4</td>\n",
              "    </tr>\n",
              "  </tbody>\n",
              "</table>\n",
              "</div>"
            ],
            "text/plain": [
              "   Year of Birth  Gender  ... Count Rank\n",
              "0           2016  FEMALE  ...   172    1\n",
              "1           2016  FEMALE  ...   112    2\n",
              "2           2016  FEMALE  ...   104    3\n",
              "3           2016  FEMALE  ...    99    4\n",
              "4           2016  FEMALE  ...    99    4\n",
              "\n",
              "[5 rows x 6 columns]"
            ]
          },
          "metadata": {
            "tags": []
          },
          "execution_count": 23
        }
      ]
    },
    {
      "cell_type": "code",
      "metadata": {
        "id": "G4SvCcNO97Os",
        "colab_type": "code",
        "colab": {
          "base_uri": "https://localhost:8080/",
          "height": 34
        },
        "outputId": "c7be97d5-02e4-4650-d411-0eb4ce3b8c4e"
      },
      "source": [
        "df.shape"
      ],
      "execution_count": 24,
      "outputs": [
        {
          "output_type": "execute_result",
          "data": {
            "text/plain": [
              "(19418, 6)"
            ]
          },
          "metadata": {
            "tags": []
          },
          "execution_count": 24
        }
      ]
    }
  ]
}