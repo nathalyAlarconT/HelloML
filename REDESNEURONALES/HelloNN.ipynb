{
  "nbformat": 4,
  "nbformat_minor": 0,
  "metadata": {
    "kernelspec": {
      "display_name": "Python 3",
      "language": "python",
      "name": "python3"
    },
    "language_info": {
      "codemirror_mode": {
        "name": "ipython",
        "version": 3
      },
      "file_extension": ".py",
      "mimetype": "text/x-python",
      "name": "python",
      "nbconvert_exporter": "python",
      "pygments_lexer": "ipython3",
      "version": "3.6.0"
    },
    "colab": {
      "name": "RedesNeuronales.ipynb",
      "provenance": [],
      "collapsed_sections": [],
      "toc_visible": true,
      "include_colab_link": true
    }
  },
  "cells": [
    {
      "cell_type": "markdown",
      "metadata": {
        "id": "view-in-github",
        "colab_type": "text"
      },
      "source": [
        "<a href=\"https://colab.research.google.com/github/nathalyAlarconT/HelloML/blob/master/REDESNEURONALES/HelloNN.ipynb\" target=\"_parent\"><img src=\"https://colab.research.google.com/assets/colab-badge.svg\" alt=\"Open In Colab\"/></a>"
      ]
    },
    {
      "cell_type": "markdown",
      "metadata": {
        "id": "xjEjUiU4lHpl",
        "colab_type": "text"
      },
      "source": [
        "# Redes neuronales"
      ]
    },
    {
      "cell_type": "markdown",
      "metadata": {
        "id": "s7mUeC17lHp_",
        "colab_type": "text"
      },
      "source": [
        "## Diabetes - Pima Dataset"
      ]
    },
    {
      "cell_type": "markdown",
      "metadata": {
        "id": "CsFI1KN3lHp_",
        "colab_type": "text"
      },
      "source": [
        "Dataset Description:"
      ]
    },
    {
      "cell_type": "markdown",
      "metadata": {
        "id": "iv4ZN6UXlHqA",
        "colab_type": "text"
      },
      "source": [
        "5. Number of Instances: 768\n",
        "\n",
        "6. Number of Attributes: 8 plus class \n",
        "\n",
        "7. For Each Attribute: (all numeric-valued)\n",
        "   1. Number of times pregnant\n",
        "   2. Plasma glucose concentration a 2 hours in an oral glucose tolerance test\n",
        "   3. Diastolic blood pressure (mm Hg)\n",
        "   4. Triceps skin fold thickness (mm)\n",
        "   5. 2-Hour serum insulin (mu U/ml)\n",
        "   6. Body mass index (weight in kg/(height in m)^2)\n",
        "   7. Diabetes pedigree function\n",
        "   8. Age (years)\n",
        "   9. Class variable (0 or 1)\n",
        "\n",
        "8. Missing Attribute Values: Yes\n",
        "\n",
        "9. Class Distribution: (class value 1 is interpreted as \"tested positive for\n",
        "   diabetes\")\n",
        "\n",
        "   Class Value  Number of instances\n",
        "   0            500\n",
        "   1            268\n"
      ]
    },
    {
      "cell_type": "code",
      "metadata": {
        "id": "maSCeOTjlHqB",
        "colab_type": "code",
        "colab": {}
      },
      "source": [
        "seed = 10"
      ],
      "execution_count": 0,
      "outputs": []
    },
    {
      "cell_type": "markdown",
      "metadata": {
        "id": "0BImk4KClHqC",
        "colab_type": "text"
      },
      "source": [
        "(=>) Download the dataset from this url \n",
        "https://raw.githubusercontent.com/jbrownlee/Datasets/master/pima-indians-diabetes.data.csv"
      ]
    },
    {
      "cell_type": "code",
      "metadata": {
        "id": "j_ZcNWTmlHqD",
        "colab_type": "code",
        "colab": {}
      },
      "source": [
        "from keras.models import Sequential\n",
        "from keras.layers import Dense  #Just Dense or fully connected neurons\n",
        "import numpy\n",
        "import pandas as pd"
      ],
      "execution_count": 0,
      "outputs": []
    },
    {
      "cell_type": "code",
      "metadata": {
        "id": "yKN19ywIlHqE",
        "colab_type": "code",
        "colab": {}
      },
      "source": [
        "from sklearn.metrics import confusion_matrix, classification_report, accuracy_score, roc_auc_score, f1_score\n",
        "import matplotlib.pyplot as plt"
      ],
      "execution_count": 0,
      "outputs": []
    },
    {
      "cell_type": "code",
      "metadata": {
        "id": "rNztPY8jlHqG",
        "colab_type": "code",
        "colab": {}
      },
      "source": [
        "numpy.random.seed(seed)"
      ],
      "execution_count": 0,
      "outputs": []
    },
    {
      "cell_type": "code",
      "metadata": {
        "id": "UpFO07SslHqH",
        "colab_type": "code",
        "colab": {}
      },
      "source": [
        "def plotPerformance(history):\n",
        "    # summarize history for accuracy  \n",
        "\n",
        "    plt.plot(history.history['acc'])\n",
        "    plt.plot(history.history['val_acc'])\n",
        "    plt.title('model accuracy')\n",
        "    plt.ylabel('accuracy')\n",
        "    plt.xlabel('epoch')\n",
        "    plt.legend(['train', 'test'], loc='upper left')\n",
        "    plt.show()\n",
        "\n",
        "    # summarize history for loss  \n",
        "\n",
        "    plt.plot(history.history['loss'])\n",
        "    plt.plot(history.history['val_loss'])\n",
        "    plt.title('model loss')\n",
        "    plt.ylabel('loss')\n",
        "    plt.xlabel('epoch')\n",
        "    plt.legend(['train', 'test'], loc='upper left')\n",
        "    plt.show()"
      ],
      "execution_count": 0,
      "outputs": []
    },
    {
      "cell_type": "code",
      "metadata": {
        "id": "dYihH_s9lHqJ",
        "colab_type": "code",
        "colab": {}
      },
      "source": [
        "# load pima indians dataset\n",
        "dataset = pd.read_csv(\"pima-indians-diabetes.data.csv\", delimiter=\",\", header=None)\n",
        "print(dataset.shape)\n",
        "dataset.head()"
      ],
      "execution_count": 0,
      "outputs": []
    },
    {
      "cell_type": "code",
      "metadata": {
        "id": "Q0PLptivlHqK",
        "colab_type": "code",
        "colab": {}
      },
      "source": [
        "dataset.columns = [\"pregnancies\", \"glucose\", \"blood_pressure\", \"skin_thickness\",\"insulin\",\"bmi\",\"Diabetes_Pedigree_Function\",\"age\",\"TARGET\"]\n",
        "dataset.head()\n"
      ],
      "execution_count": 0,
      "outputs": []
    },
    {
      "cell_type": "code",
      "metadata": {
        "id": "r6ihL-cApiNx",
        "colab_type": "code",
        "colab": {}
      },
      "source": [
        "# Preparemos el dataset para el entrenamiento del modelo\n",
        "from sklearn.model_selection import train_test_split"
      ],
      "execution_count": 0,
      "outputs": []
    },
    {
      "cell_type": "code",
      "metadata": {
        "id": "bpVsK5FblHqM",
        "colab_type": "code",
        "colab": {}
      },
      "source": [
        "# split into input (X) and output (Y) variables\n",
        "X_train, X_test, Y_train, Y_test = train_test_split(dataset[dataset.columns[:-1]], dataset.TARGET, test_size=0.2, random_state=42)\n",
        "\n",
        "print(\"X_train: \", X_train.shape, \" Y_train: \", Y_train.shape)\n",
        "print(\"X_test: \", X_test.shape, \" Y_test: \",Y_test.shape )\n"
      ],
      "execution_count": 0,
      "outputs": []
    },
    {
      "cell_type": "code",
      "metadata": {
        "id": "K87TzcpMlHqO",
        "colab_type": "code",
        "colab": {}
      },
      "source": [
        "# create model\n",
        "model = Sequential()\n",
        "model.add(Dense(19, input_dim=8, kernel_initializer=\"uniform\", activation='relu'))\n",
        "model.add(Dense(10, kernel_initializer='uniform', activation='relu'))\n",
        "model.add(Dense(1, kernel_initializer='uniform', activation='sigmoid'))"
      ],
      "execution_count": 0,
      "outputs": []
    },
    {
      "cell_type": "code",
      "metadata": {
        "id": "Rnj_akHwlHqR",
        "colab_type": "code",
        "colab": {}
      },
      "source": [
        "# Compile model\n",
        "optimizer='sgd' #adam, sgd\n",
        "model.compile(loss='binary_crossentropy', optimizer=optimizer, metrics=['accuracy'])"
      ],
      "execution_count": 0,
      "outputs": []
    },
    {
      "cell_type": "code",
      "metadata": {
        "scrolled": true,
        "id": "zABTo4OZlHqU",
        "colab_type": "code",
        "colab": {}
      },
      "source": [
        "# Fit the model\n",
        "history = model.fit(X_test, Y_test, validation_split=0.20,epochs=150, batch_size=10,  verbose=2)\n"
      ],
      "execution_count": 0,
      "outputs": []
    },
    {
      "cell_type": "code",
      "metadata": {
        "id": "2wHZDOsGlHqW",
        "colab_type": "code",
        "colab": {}
      },
      "source": [
        "# evaluate the model\n",
        "loss, acc_t = model.evaluate(X_test, Y_test)\n",
        "print(\"\\n%s: %.2f%%\" % (model.metrics_names[1], acc_t*100))"
      ],
      "execution_count": 0,
      "outputs": []
    },
    {
      "cell_type": "code",
      "metadata": {
        "id": "Id7fA7wMlHqY",
        "colab_type": "code",
        "colab": {}
      },
      "source": [
        "# calculate predictions\n",
        "probabilities = model.predict(X_test)\n",
        "predictions = [float(round(x[0])) for x in probabilities]\n",
        "accuracy = numpy.mean(predictions == Y_test)\n",
        "print(\"Prediction Accuracy: %.2f%%\" % (accuracy*100))"
      ],
      "execution_count": 0,
      "outputs": []
    },
    {
      "cell_type": "code",
      "metadata": {
        "id": "B6RG3UhblHqZ",
        "colab_type": "code",
        "colab": {}
      },
      "source": [
        " print(history.history.keys())  "
      ],
      "execution_count": 0,
      "outputs": []
    },
    {
      "cell_type": "code",
      "metadata": {
        "id": "_ZAFeSGVlHqb",
        "colab_type": "code",
        "colab": {}
      },
      "source": [
        "# Let's create a plot to evaluate the performance\n",
        "print (model.optimizer)\n",
        "print(\"Accuracy: %.2f%%\" % (acc_t*100))\n",
        "plotPerformance(history)"
      ],
      "execution_count": 0,
      "outputs": []
    },
    {
      "cell_type": "markdown",
      "metadata": {
        "id": "D8LanNJBlHqd",
        "colab_type": "text"
      },
      "source": [
        "##### Let's try a new optimizer \n",
        "##### Let's play with optimization algorithms and epoch numbers! "
      ]
    },
    {
      "cell_type": "code",
      "metadata": {
        "id": "tp0fyWNHlHqe",
        "colab_type": "code",
        "colab": {}
      },
      "source": [
        ""
      ],
      "execution_count": 0,
      "outputs": []
    },
    {
      "cell_type": "code",
      "metadata": {
        "id": "usaQeOJ-lHqf",
        "colab_type": "code",
        "colab": {}
      },
      "source": [
        ""
      ],
      "execution_count": 0,
      "outputs": []
    },
    {
      "cell_type": "code",
      "metadata": {
        "id": "7eL8pycJlHqh",
        "colab_type": "code",
        "colab": {}
      },
      "source": [
        ""
      ],
      "execution_count": 0,
      "outputs": []
    },
    {
      "cell_type": "code",
      "metadata": {
        "id": "wXy7-UJVlHqi",
        "colab_type": "code",
        "colab": {}
      },
      "source": [
        ""
      ],
      "execution_count": 0,
      "outputs": []
    },
    {
      "cell_type": "code",
      "metadata": {
        "id": "sGPriDpLlHqn",
        "colab_type": "code",
        "colab": {}
      },
      "source": [
        ""
      ],
      "execution_count": 0,
      "outputs": []
    },
    {
      "cell_type": "code",
      "metadata": {
        "id": "IN40eYD_lHqp",
        "colab_type": "code",
        "colab": {}
      },
      "source": [
        ""
      ],
      "execution_count": 0,
      "outputs": []
    },
    {
      "cell_type": "markdown",
      "metadata": {
        "id": "KTF6xOTJlHqq",
        "colab_type": "text"
      },
      "source": [
        "### 2.2 MNIST"
      ]
    },
    {
      "cell_type": "code",
      "metadata": {
        "id": "stKdqkOClHqr",
        "colab_type": "code",
        "colab": {}
      },
      "source": [
        "import numpy as np\n",
        "import keras\n",
        "import pandas as pd\n",
        "from keras.datasets import mnist\n",
        "from keras.models import Sequential\n",
        "from keras.layers import Dense, Dropout, Flatten\n",
        "from keras.layers import Conv2D, MaxPooling2D\n",
        "from keras import backend as K\n",
        "import matplotlib.pyplot as plt"
      ],
      "execution_count": 0,
      "outputs": []
    },
    {
      "cell_type": "code",
      "metadata": {
        "id": "LNx4Dwa9lHqs",
        "colab_type": "code",
        "colab": {}
      },
      "source": [
        "#10 Digits to predict\n",
        "num_classes = 10  \n",
        "\n",
        "batch_size = 128\n",
        "\n",
        "epochs = 2"
      ],
      "execution_count": 0,
      "outputs": []
    },
    {
      "cell_type": "code",
      "metadata": {
        "id": "ff7d0ug_lHqu",
        "colab_type": "code",
        "colab": {}
      },
      "source": [
        "# input image dimensions\n",
        "img_rows, img_cols = 28, 28"
      ],
      "execution_count": 0,
      "outputs": []
    },
    {
      "cell_type": "code",
      "metadata": {
        "id": "K6GFbYxklHqv",
        "colab_type": "code",
        "colab": {}
      },
      "source": [
        "# Train and test dataset\n",
        "(x_train, y_train), (x_test, y_test) = mnist.load_data()"
      ],
      "execution_count": 0,
      "outputs": []
    },
    {
      "cell_type": "code",
      "metadata": {
        "scrolled": true,
        "id": "mqcWtC9elHqx",
        "colab_type": "code",
        "colab": {}
      },
      "source": [
        "# Explore the data, let's create some plots\n",
        "plt.subplot(221)\n",
        "plt.imshow(x_train[80], cmap=plt.get_cmap('gray'))\n",
        "plt.subplot(222)\n",
        "plt.imshow(x_train[89], cmap=plt.get_cmap('gray'))\n",
        "plt.subplot(223)\n",
        "plt.imshow(x_train[14], cmap=plt.get_cmap('gray'))\n",
        "plt.subplot(224)\n",
        "plt.imshow(x_train[3], cmap=plt.get_cmap('gray'))\n",
        "# show the plot\n",
        "plt.show()"
      ],
      "execution_count": 0,
      "outputs": []
    },
    {
      "cell_type": "code",
      "metadata": {
        "id": "tmkIID9GlHqz",
        "colab_type": "code",
        "colab": {}
      },
      "source": [
        "pd.set_option('display.max_columns', None)\n",
        "pd.set_option('display.max_rows', None)\n",
        "pd.DataFrame(x_train[14])"
      ],
      "execution_count": 0,
      "outputs": []
    },
    {
      "cell_type": "code",
      "metadata": {
        "id": "hsEqE24zlHq1",
        "colab_type": "code",
        "colab": {}
      },
      "source": [
        "# Reduce the dataset\n",
        "# numberOfExamplesTrain = 5000\n",
        "# numberOfExamplesTest = 1000\n",
        "# x_train = x_train[0:numberOfExamplesTrain]\n",
        "# y_train = y_train[0:numberOfExamplesTrain]\n",
        "# x_test = x_test[0:numberOfExamplesTest]\n",
        "# y_test = y_test[0:numberOfExamplesTest]"
      ],
      "execution_count": 0,
      "outputs": []
    },
    {
      "cell_type": "code",
      "metadata": {
        "id": "ZUZw1vE2lHq2",
        "colab_type": "code",
        "colab": {}
      },
      "source": [
        "if K.image_data_format() == 'channels_first':\n",
        "    x_train = x_train.reshape(x_train.shape[0], 1, img_rows, img_cols)\n",
        "    x_test = x_test.reshape(x_test.shape[0], 1, img_rows, img_cols)\n",
        "    input_shape = (1, img_rows, img_cols)\n",
        "else:\n",
        "    x_train = x_train.reshape(x_train.shape[0], img_rows, img_cols, 1)\n",
        "    x_test = x_test.reshape(x_test.shape[0], img_rows, img_cols, 1)\n",
        "    input_shape = (img_rows, img_cols, 1)\n"
      ],
      "execution_count": 0,
      "outputs": []
    },
    {
      "cell_type": "code",
      "metadata": {
        "id": "hDvfi7YXlHq4",
        "colab_type": "code",
        "colab": {}
      },
      "source": [
        "# Normalize data\n",
        "x_train = x_train.astype('float32')\n",
        "x_test = x_test.astype('float32')\n",
        "x_train /= 255\n",
        "x_test /= 255\n",
        "\n",
        "print('x_train shape:', x_train.shape)\n",
        "print(x_train.shape[0], 'train samples')\n",
        "print(x_test.shape[0], 'test samples')\n"
      ],
      "execution_count": 0,
      "outputs": []
    },
    {
      "cell_type": "code",
      "metadata": {
        "id": "8LJTPzxglHq5",
        "colab_type": "code",
        "colab": {}
      },
      "source": [
        "print(\"Train Set classes frequency\")\n",
        "unique, counts = np.unique(y_train, return_counts=True)\n",
        "print(np.asarray((unique, counts)).T)\n",
        "\n",
        "print(\"Test Set classes frequency\")\n",
        "unique, counts = np.unique(y_test, return_counts=True)\n",
        "print(np.asarray((unique, counts)).T)"
      ],
      "execution_count": 0,
      "outputs": []
    },
    {
      "cell_type": "code",
      "metadata": {
        "id": "qeL8HNodlHq7",
        "colab_type": "code",
        "colab": {}
      },
      "source": [
        "# convert class vectors to binary class matrices\n",
        "y_test_bk = y_test.copy()\n",
        "y_train_bk = y_train.copy()\n",
        "\n",
        "y_train = keras.utils.to_categorical(y_train, num_classes)\n",
        "y_test = keras.utils.to_categorical(y_test, num_classes)"
      ],
      "execution_count": 0,
      "outputs": []
    },
    {
      "cell_type": "code",
      "metadata": {
        "id": "lJBHz2kJlHq_",
        "colab_type": "code",
        "colab": {}
      },
      "source": [
        "y_train.view()"
      ],
      "execution_count": 0,
      "outputs": []
    },
    {
      "cell_type": "code",
      "metadata": {
        "id": "PjnbbRY1lHrC",
        "colab_type": "code",
        "colab": {}
      },
      "source": [
        "# Neural net definition\n",
        "model = Sequential()\n",
        "model.add(Conv2D(32, kernel_size=(3, 3),\n",
        "                 activation='relu',\n",
        "                 input_shape=input_shape))\n",
        "model.add(Conv2D(64, (3, 3), activation='relu'))\n",
        "model.add(MaxPooling2D(pool_size=(2, 2)))\n",
        "model.add(Dropout(0.25))\n",
        "model.add(Flatten())\n",
        "model.add(Dense(128, activation='relu'))\n",
        "model.add(Dropout(0.5))\n",
        "model.add(Dense(num_classes, activation='softmax'))"
      ],
      "execution_count": 0,
      "outputs": []
    },
    {
      "cell_type": "code",
      "metadata": {
        "id": "O_IimCDnlHrD",
        "colab_type": "code",
        "colab": {}
      },
      "source": [
        "model.compile(loss=\"categorical_crossentropy\",\n",
        "              optimizer=\"adam\",\n",
        "              metrics=['accuracy'])"
      ],
      "execution_count": 0,
      "outputs": []
    },
    {
      "cell_type": "code",
      "metadata": {
        "id": "5Mrc-DyKlHrF",
        "colab_type": "code",
        "colab": {}
      },
      "source": [
        "model.fit(x_train, y_train,\n",
        "          batch_size=batch_size,\n",
        "          epochs=epochs,\n",
        "          verbose=1,\n",
        "          validation_data=(x_test, y_test))"
      ],
      "execution_count": 0,
      "outputs": []
    },
    {
      "cell_type": "code",
      "metadata": {
        "id": "ksEFKFyKlHrI",
        "colab_type": "code",
        "colab": {}
      },
      "source": [
        "score = model.evaluate(x_test, y_test, verbose=0)\n",
        "print('Test loss:', score[0])\n",
        "print('Test accuracy:', score[1])"
      ],
      "execution_count": 0,
      "outputs": []
    },
    {
      "cell_type": "code",
      "metadata": {
        "id": "hB2-3NkmlHrK",
        "colab_type": "code",
        "colab": {}
      },
      "source": [
        "from sklearn.metrics import confusion_matrix, classification_report, accuracy_score, roc_auc_score, f1_score\n",
        "predictions = model.predict_classes(x_test)\n",
        "pred_probs = model.predict_proba(x_test)\n",
        "\n",
        "\n",
        "print(\"\\nMatriz de confusion\")\n",
        "print(confusion_matrix(y_test_bk, predictions, labels=range(0,10)))\n",
        "print(\"\\nAccuracy Score\")\n",
        "print(accuracy_score(y_test_bk, predictions))"
      ],
      "execution_count": 0,
      "outputs": []
    },
    {
      "cell_type": "code",
      "metadata": {
        "id": "zRBEt7yGlHrM",
        "colab_type": "code",
        "colab": {}
      },
      "source": [
        ""
      ],
      "execution_count": 0,
      "outputs": []
    },
    {
      "cell_type": "code",
      "metadata": {
        "id": "57sLZ0WKlHrN",
        "colab_type": "code",
        "colab": {}
      },
      "source": [
        ""
      ],
      "execution_count": 0,
      "outputs": []
    }
  ]
}