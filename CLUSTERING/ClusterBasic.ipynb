{
  "nbformat": 4,
  "nbformat_minor": 0,
  "metadata": {
    "colab": {
      "name": "Clustering.ipynb",
      "provenance": [],
      "collapsed_sections": [],
      "include_colab_link": true
    },
    "kernelspec": {
      "name": "python3",
      "display_name": "Python 3"
    }
  },
  "cells": [
    {
      "cell_type": "markdown",
      "metadata": {
        "id": "view-in-github",
        "colab_type": "text"
      },
      "source": [
        "<a href=\"https://colab.research.google.com/github/nathalyAlarconT/HelloML/blob/master/CLUSTERING/ClusterBasic.ipynb\" target=\"_parent\"><img src=\"https://colab.research.google.com/assets/colab-badge.svg\" alt=\"Open In Colab\"/></a>"
      ]
    },
    {
      "cell_type": "code",
      "metadata": {
        "id": "v_mDTrMht0VI",
        "colab_type": "code",
        "colab": {}
      },
      "source": [
        "\n",
        "from sklearn import datasets\n",
        "import numpy as np\n",
        "\n",
        "%matplotlib inline"
      ],
      "execution_count": 0,
      "outputs": []
    },
    {
      "cell_type": "code",
      "metadata": {
        "id": "oTXewOQ1t7OU",
        "colab_type": "code",
        "colab": {}
      },
      "source": [
        "# Vamos a generar nuestro dataset\n",
        "# blobs, classes = datasets.make_blobs(1000, centers=3,cluster_std=1.75)\n",
        "# blobs, classes = datasets.make_blobs(n_samples=1000, centers=3, n_features=2,random_state=0)\n",
        "blobs, classes = datasets.make_blobs(500, centers=3)"
      ],
      "execution_count": 0,
      "outputs": []
    },
    {
      "cell_type": "code",
      "metadata": {
        "id": "03zW5NAwTLMf",
        "colab_type": "code",
        "colab": {}
      },
      "source": [
        "classes"
      ],
      "execution_count": 0,
      "outputs": []
    },
    {
      "cell_type": "code",
      "metadata": {
        "id": "oxm5sZ_9t897",
        "colab_type": "code",
        "colab": {}
      },
      "source": [
        "import matplotlib.pyplot as plt"
      ],
      "execution_count": 0,
      "outputs": []
    },
    {
      "cell_type": "code",
      "metadata": {
        "id": "_GWr_LLbt9z6",
        "colab_type": "code",
        "colab": {}
      },
      "source": [
        "# Veamos nuestros datos\n",
        "f, ax = plt.subplots(figsize=(7.5, 7.5))\n",
        "ax.scatter(blobs[:, 0], blobs[:, 1])\n",
        "rgb = np.array(['r', 'g', 'b'])\n",
        "ax.set_title(\"Dataset\")"
      ],
      "execution_count": 0,
      "outputs": []
    },
    {
      "cell_type": "code",
      "metadata": {
        "id": "pUEUtEBeuCSZ",
        "colab_type": "code",
        "colab": {}
      },
      "source": [
        "from sklearn.cluster import KMeans"
      ],
      "execution_count": 0,
      "outputs": []
    },
    {
      "cell_type": "code",
      "metadata": {
        "id": "LPAdCIyuuFMP",
        "colab_type": "code",
        "colab": {}
      },
      "source": [
        "\n",
        "# Definamos el modelo de Kmeans\n",
        "kmean = KMeans(n_clusters=3)"
      ],
      "execution_count": 0,
      "outputs": []
    },
    {
      "cell_type": "code",
      "metadata": {
        "id": "_qmrI2FRuG4H",
        "colab_type": "code",
        "colab": {}
      },
      "source": [
        "# Entrenemos el algoritmo\n",
        "kmean.fit(blobs)"
      ],
      "execution_count": 0,
      "outputs": []
    },
    {
      "cell_type": "code",
      "metadata": {
        "id": "YEMf1HEvuIQN",
        "colab_type": "code",
        "colab": {}
      },
      "source": [
        "# Los centroides\n",
        "kmean.cluster_centers_"
      ],
      "execution_count": 0,
      "outputs": []
    },
    {
      "cell_type": "code",
      "metadata": {
        "id": "6GT-T3P5uKJ7",
        "colab_type": "code",
        "colab": {}
      },
      "source": [
        "# Cluster definition\n",
        "f, ax = plt.subplots(figsize=(7.5, 7.5))\n",
        "ax.scatter(blobs[:, 0], blobs[:, 1], color=rgb[classes])\n",
        "ax.scatter(kmean.cluster_centers_[:, 0],\n",
        "           kmean.cluster_centers_[:, 1], marker='*', s=250,\n",
        "           color='black', label='Centers')\n",
        "ax.set_title(\"Blobs\")\n",
        "ax.legend(loc='best')"
      ],
      "execution_count": 0,
      "outputs": []
    },
    {
      "cell_type": "code",
      "metadata": {
        "id": "Wnx7e-yuuMIR",
        "colab_type": "code",
        "colab": {}
      },
      "source": [
        ""
      ],
      "execution_count": 0,
      "outputs": []
    }
  ]
}