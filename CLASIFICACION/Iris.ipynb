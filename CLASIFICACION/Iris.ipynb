{
  "nbformat": 4,
  "nbformat_minor": 0,
  "metadata": {
    "colab": {
      "name": "Clasificacion_Iris.ipynb",
      "version": "0.3.2",
      "provenance": [],
      "collapsed_sections": [],
      "toc_visible": true,
      "include_colab_link": true
    },
    "kernelspec": {
      "name": "python3",
      "display_name": "Python 3"
    }
  },
  "cells": [
    {
      "cell_type": "markdown",
      "metadata": {
        "id": "view-in-github",
        "colab_type": "text"
      },
      "source": [
        "<a href=\"https://colab.research.google.com/github/nathalyAlarconT/HelloML/blob/master/CLASIFICACION/Iris.ipynb\" target=\"_parent\"><img src=\"https://colab.research.google.com/assets/colab-badge.svg\" alt=\"Open In Colab\"/></a>"
      ]
    },
    {
      "cell_type": "code",
      "metadata": {
        "id": "HjNAEBQ9TziN",
        "colab_type": "code",
        "colab": {}
      },
      "source": [
        "from sklearn import datasets\n",
        "import numpy as np\n",
        "import pandas as pd\n",
        "from sklearn.model_selection import train_test_split\n",
        "from sklearn.ensemble import RandomForestClassifier\n",
        "from sklearn import preprocessing"
      ],
      "execution_count": 0,
      "outputs": []
    },
    {
      "cell_type": "markdown",
      "metadata": {
        "id": "EXMJsekEWOnz",
        "colab_type": "text"
      },
      "source": [
        "# Iris Dataset"
      ]
    },
    {
      "cell_type": "code",
      "metadata": {
        "id": "RafFjjdOUSmx",
        "colab_type": "code",
        "colab": {}
      },
      "source": [
        "# Cargamos el dataset del Iris\n",
        "iris = datasets.load_iris()"
      ],
      "execution_count": 0,
      "outputs": []
    },
    {
      "cell_type": "code",
      "metadata": {
        "id": "azCZOF8dUqw4",
        "colab_type": "code",
        "colab": {}
      },
      "source": [
        "print(iris.DESCR)"
      ],
      "execution_count": 0,
      "outputs": []
    },
    {
      "cell_type": "code",
      "metadata": {
        "id": "EHQefq9fUYAl",
        "colab_type": "code",
        "colab": {}
      },
      "source": [
        "df_iris = pd.DataFrame(iris.data, columns=iris.feature_names)\n",
        "df_iris['TARGET'] = iris.target\n",
        "\n",
        "df_iris.sample(5)"
      ],
      "execution_count": 0,
      "outputs": []
    },
    {
      "cell_type": "code",
      "metadata": {
        "id": "UoXsta67U3dp",
        "colab_type": "code",
        "colab": {}
      },
      "source": [
        "print(iris.target_names)\n",
        "df_iris.groupby('TARGET').agg(['count'])['sepal length (cm)']"
      ],
      "execution_count": 0,
      "outputs": []
    },
    {
      "cell_type": "markdown",
      "metadata": {
        "id": "0T8WweCeWVDF",
        "colab_type": "text"
      },
      "source": [
        "## one tree"
      ]
    },
    {
      "cell_type": "code",
      "metadata": {
        "id": "W-ff_uJ6UUvS",
        "colab_type": "code",
        "colab": {}
      },
      "source": [
        "#  En este primer modelo , solo implementaremos un Arbol\n",
        "from sklearn import tree\n",
        "\n",
        "# Creamos el modelo\n",
        "oneTree = tree.DecisionTreeClassifier()\n",
        "\n",
        "# Entrenamos al modelo\n",
        "oneTree = oneTree.fit(df_iris[iris.feature_names], df_iris['TARGET'])\n",
        "\n",
        "# vamos a graficar el arbol obtenido \n",
        "import graphviz \n",
        "dot_data = tree.export_graphviz(oneTree,out_file=None, \n",
        "                         feature_names=iris.feature_names,  \n",
        "                         class_names=iris.target_names,  \n",
        "                         filled=True, rounded=True,  \n",
        "                         special_characters=True) \n",
        "graph = graphviz.Source(dot_data) \n",
        "graph"
      ],
      "execution_count": 0,
      "outputs": []
    },
    {
      "cell_type": "markdown",
      "metadata": {
        "id": "shvLkDJBWoq-",
        "colab_type": "text"
      },
      "source": [
        "## Random Forest"
      ]
    },
    {
      "cell_type": "code",
      "metadata": {
        "id": "r40xIwJSVvH6",
        "colab_type": "code",
        "colab": {}
      },
      "source": [
        "# Procesando las 3 clase del iris con OneHotEncoder\n",
        "enc = preprocessing.OneHotEncoder(categories='auto')\n",
        "\n",
        "enc.fit(df_iris['TARGET'].values.reshape(-1, 1))\n",
        "\n",
        "iris_Y = enc.transform(df_iris['TARGET'].values.reshape(-1, 1)).toarray()\n",
        "iris_Y.shape"
      ],
      "execution_count": 0,
      "outputs": []
    },
    {
      "cell_type": "code",
      "metadata": {
        "id": "7BSb3vJnWvBz",
        "colab_type": "code",
        "colab": {}
      },
      "source": [
        "# Valores Reales\n",
        "df_iris.loc[45:65,'TARGET']\n",
        "# One hot encoding\n",
        "print(iris_Y[45:65,])\n"
      ],
      "execution_count": 0,
      "outputs": []
    },
    {
      "cell_type": "code",
      "metadata": {
        "id": "6NenJRSnYKc4",
        "colab_type": "code",
        "colab": {}
      },
      "source": [
        "# Separamos los datasets en datasets de training y de test\n",
        "percentage_for_test = 0.10\n",
        "X_train, X_test, Y_train, Y_test = train_test_split(df_iris[iris.feature_names], iris_Y, test_size = percentage_for_test)"
      ],
      "execution_count": 0,
      "outputs": []
    },
    {
      "cell_type": "code",
      "metadata": {
        "id": "S23-97gmZZ0b",
        "colab_type": "code",
        "colab": {}
      },
      "source": [
        "Y_test"
      ],
      "execution_count": 0,
      "outputs": []
    },
    {
      "cell_type": "code",
      "metadata": {
        "id": "sJHM_NXKZbXN",
        "colab_type": "code",
        "colab": {}
      },
      "source": [
        "# Definimos el modelo: Random Forest\n",
        "model = RandomForestClassifier(n_estimators=3 )"
      ],
      "execution_count": 0,
      "outputs": []
    },
    {
      "cell_type": "code",
      "metadata": {
        "id": "sQH-f2rvZ6OB",
        "colab_type": "code",
        "colab": {}
      },
      "source": [
        "# Entrenamos\n",
        "model.fit(X_train, Y_train)"
      ],
      "execution_count": 0,
      "outputs": []
    },
    {
      "cell_type": "code",
      "metadata": {
        "id": "toSr_EDEZ-Ts",
        "colab_type": "code",
        "colab": {}
      },
      "source": [
        "# Qué variables son más importantes ?\n",
        "model.feature_importances_"
      ],
      "execution_count": 0,
      "outputs": []
    },
    {
      "cell_type": "code",
      "metadata": {
        "id": "LEYsRbE_aAWV",
        "colab_type": "code",
        "colab": {}
      },
      "source": [
        "Y_pred = model.predict(X_test)"
      ],
      "execution_count": 0,
      "outputs": []
    },
    {
      "cell_type": "code",
      "metadata": {
        "id": "jUJAV8Y5aG5P",
        "colab_type": "code",
        "colab": {}
      },
      "source": [
        "Y_pred"
      ],
      "execution_count": 0,
      "outputs": []
    },
    {
      "cell_type": "code",
      "metadata": {
        "id": "7vLTuJ0hc6-v",
        "colab_type": "code",
        "colab": {}
      },
      "source": [
        "# Transformos el encoding multilabel a la clase asignada por las predicciones\n",
        "Y_test_class = Y_test.argmax(axis=1)\n",
        "Y_pred_class = Y_pred.argmax(axis=1)\n",
        "print(Y_pred_class)"
      ],
      "execution_count": 0,
      "outputs": []
    },
    {
      "cell_type": "code",
      "metadata": {
        "id": "3umNmV_jaIjd",
        "colab_type": "code",
        "colab": {}
      },
      "source": [
        "# Evaluemos nuestro modelo sobre el dataset de test\n",
        "from sklearn.metrics import confusion_matrix, accuracy_score"
      ],
      "execution_count": 0,
      "outputs": []
    },
    {
      "cell_type": "code",
      "metadata": {
        "id": "216QAAJYciFi",
        "colab_type": "code",
        "colab": {}
      },
      "source": [
        "# Generemos la matriz de confusión\n",
        "cm = confusion_matrix(Y_test_class, Y_pred_class, labels=[0,1,2])\n",
        "df_cm = pd.DataFrame(cm, columns= iris.target_names, index = iris.target_names  )\n",
        "df_cm "
      ],
      "execution_count": 0,
      "outputs": []
    },
    {
      "cell_type": "code",
      "metadata": {
        "id": "aJTzOBv-hoB9",
        "colab_type": "code",
        "colab": {}
      },
      "source": [
        "# Obtengamos el accuracy del modelo\n",
        "accuracy_score(Y_test_class, Y_pred_class)"
      ],
      "execution_count": 0,
      "outputs": []
    },
    {
      "cell_type": "code",
      "metadata": {
        "id": "7TkA2DNPvVHX",
        "colab_type": "code",
        "colab": {}
      },
      "source": [
        ""
      ],
      "execution_count": 0,
      "outputs": []
    }
  ]
}